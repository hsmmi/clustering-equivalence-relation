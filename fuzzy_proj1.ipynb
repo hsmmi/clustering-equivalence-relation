{
 "cells": [
  {
   "cell_type": "code",
   "execution_count": 1,
   "metadata": {},
   "outputs": [],
   "source": [
    "import numpy as np\n",
    "from my_io import read_dataset_to_X_and_y\n",
    "from normalization import zero_mean_unit_variance\n",
    "from copy import deepcopy"
   ]
  },
  {
   "cell_type": "code",
   "execution_count": 2,
   "metadata": {},
   "outputs": [],
   "source": [
    "class UniSet():\n",
    "    def __init__(self, file, range_feature, range_label, normalization=False):\n",
    "        np.random.seed(1)\n",
    "        sample, label = read_dataset_to_X_and_y(\n",
    "            file, range_feature, range_label, shuffle=False,\n",
    "            about_nan='class_mean')\n",
    "        self.number_of_feature = sample.shape[1]\n",
    "        self.size_of_universal = sample.shape[0]\n",
    "        self.universal = sample.astype(float)\n",
    "        self.label = label\n",
    "        self.diffrent_label = np.unique(label)\n",
    "        self.number_of_diffrent_label = self.diffrent_label.shape[0]\n",
    "        if normalization is True:\n",
    "            self.universal = zero_mean_unit_variance(self.universal)\n",
    "        self.relation = None\n",
    "        self.equivalence_relation = None\n",
    "\n",
    "\n",
    "uni_total = UniSet('dataset/hcvdat0.csv', (4, 14), (1, 2), normalization=True)"
   ]
  },
  {
   "cell_type": "code",
   "execution_count": 3,
   "metadata": {},
   "outputs": [],
   "source": [
    "def split_train_test(universe: UniSet, train_size: float) -> list[UniSet]:\n",
    "    train = deepcopy(universe)\n",
    "    test = deepcopy(universe)\n",
    "    train.size_of_universal = \\\n",
    "        int(universe.size_of_universal*train_size)\n",
    "    train.universal = \\\n",
    "        universe.universal[0:train.size_of_universal]\n",
    "    test.size_of_universal = (\n",
    "        universe.size_of_universal - train.size_of_universal)\n",
    "    test.universal = \\\n",
    "        universe.universal[train.size_of_universal:]\n",
    "    return train, test\n",
    "\n",
    "\n",
    "# uni_train, uni_test = split_train_test(uni_total, 0.8)\n",
    "uni_train, uni_test = split_train_test(uni_total, 1)"
   ]
  },
  {
   "cell_type": "code",
   "execution_count": 4,
   "metadata": {},
   "outputs": [],
   "source": [
    "def distance(sample1: np.ndarray, sample2: np.ndarray) -> float:\n",
    "    return np.linalg.norm(sample1-sample2)\n",
    "\n",
    "\n",
    "def find_relation(universal: UniSet) -> np.ndarray:\n",
    "    dis = np.array(\n",
    "        list(map(lambda x: list(map(\n",
    "            lambda y: distance(\n",
    "                universal.universal[x], universal.universal[y]),\n",
    "            range(universal.size_of_universal))),\n",
    "            range(universal.size_of_universal))))\n",
    "    return 1 - dis / np.max(dis)\n",
    "\n",
    "\n",
    "uni_train.relation = find_relation(uni_train)"
   ]
  },
  {
   "cell_type": "code",
   "execution_count": 5,
   "metadata": {},
   "outputs": [
    {
     "name": "stdout",
     "output_type": "stream",
     "text": [
      "1\n",
      "2\n",
      "3\n",
      "4\n",
      "5\n",
      "6\n"
     ]
    }
   ],
   "source": [
    "def max_min(sample1: np.ndarray, sample2: np.ndarray) -> float:\n",
    "    both_sample = np.vstack((sample1, sample2))\n",
    "    return np.max(np.min(both_sample, axis=0))\n",
    "\n",
    "\n",
    "def composition_RoR(relation: np.ndarray) -> np.ndarray:\n",
    "    result = np.array(\n",
    "        list(map(lambda x: list(map(\n",
    "            lambda y: max_min(relation[x], relation[y]),\n",
    "            range(relation.shape[0]))),\n",
    "            range(relation.shape[0]))))\n",
    "    return result\n",
    "\n",
    "\n",
    "def union_two_relation(\n",
    "        relation1: np.ndarray, relation2: np.ndarray) -> np.ndarray:\n",
    "    both_relation = np.dstack((relation1, relation2))\n",
    "    return np.max(both_relation, axis=2)\n",
    "\n",
    "\n",
    "def make_transitive(relation: np.ndarray) -> np.ndarray:\n",
    "    R = None\n",
    "    Rp = np.copy(relation)\n",
    "    iter = 0\n",
    "    while((Rp != R).any()):\n",
    "        R = np.copy(Rp)\n",
    "        RoR = composition_RoR(R)\n",
    "        Rp = union_two_relation(R, RoR)\n",
    "        iter += 1\n",
    "        print(iter)\n",
    "    return Rp\n",
    "\n",
    "\n",
    "uni_train.equivalence_relation = make_transitive(uni_train.relation)"
   ]
  },
  {
   "cell_type": "code",
   "execution_count": 6,
   "metadata": {},
   "outputs": [
    {
     "name": "stdout",
     "output_type": "stream",
     "text": [
      "Is our equivalence relation, equivalence? True\n"
     ]
    }
   ],
   "source": [
    "def is_reflexive(relation: np.ndarray) -> bool:\n",
    "    return (relation.diagonal() != 0).all()\n",
    "\n",
    "\n",
    "def is_symmetric(relation: np.ndarray) -> bool:\n",
    "    return (relation == relation.T).all()\n",
    "\n",
    "\n",
    "def is_transitive(relation: np.ndarray) -> bool:\n",
    "    RoR = composition_RoR(relation)\n",
    "    Rp = union_two_relation(relation, RoR)\n",
    "    return (Rp == relation).all()\n",
    "\n",
    "\n",
    "def is_equivalece(relation: np.ndarray) -> bool:\n",
    "    return is_reflexive(relation) & is_symmetric(relation) & \\\n",
    "        is_transitive(relation)\n",
    "\n",
    "\n",
    "print('Is our equivalence relation, equivalence?',\n",
    "    f'{is_equivalece(uni_train.equivalence_relation)}')"
   ]
  },
  {
   "cell_type": "code",
   "execution_count": 7,
   "metadata": {},
   "outputs": [
    {
     "name": "stdout",
     "output_type": "stream",
     "text": [
      "[array([  0,   1,   2,   3,   4,   5,   6,   7,   8,   9,  10,  11,  12,\n",
      "        13,  14,  15,  16,  17,  18,  19,  20,  21,  22,  23,  24,  25,\n",
      "        26,  27,  28,  29,  30,  31,  32,  33,  34,  35,  36,  37,  38,\n",
      "        39,  40,  41,  43,  44,  45,  46,  47,  48,  49,  50,  51,  52,\n",
      "        53,  54,  55,  56,  57,  58,  59,  60,  61,  62,  63,  64,  65,\n",
      "        66,  67,  68,  69,  70,  71,  72,  73,  74,  75,  76,  77,  78,\n",
      "        79,  80,  81,  82,  83,  84,  85,  86,  87,  88,  89,  90,  91,\n",
      "        92,  93,  94,  95,  96,  97,  98,  99, 100, 101, 102, 103, 104,\n",
      "       105, 106, 107, 109, 110, 111, 112, 113, 114, 115, 116, 117, 118,\n",
      "       119, 120, 121, 122, 124, 125, 127, 128, 129, 130, 131, 132, 133,\n",
      "       134, 135, 136, 137, 138, 139, 140, 141, 142, 143, 144, 145, 146,\n",
      "       147, 148, 149, 150, 151, 152, 153, 154, 155, 156, 157, 158, 159,\n",
      "       160, 161, 162, 163, 164, 165, 166, 167, 168, 169, 170, 171, 172,\n",
      "       173, 174, 175, 176, 177, 178, 179, 180, 181, 182, 184, 185, 186,\n",
      "       187, 188, 189, 190, 191, 192, 193, 195, 196, 197, 198, 199, 200,\n",
      "       201, 202, 203, 204, 206, 207, 208, 210, 211, 212, 213, 214, 215,\n",
      "       217, 218, 219, 220, 221, 222, 223, 224, 225, 226, 227, 228, 229,\n",
      "       230, 232, 233, 234, 235, 236, 237, 238, 239, 240, 241, 242, 243,\n",
      "       244, 245, 246, 247, 248, 249, 250, 251, 252, 253, 254, 255, 256,\n",
      "       257, 258, 261, 262, 263, 264, 265, 266, 267, 268, 269, 270, 271,\n",
      "       272, 273, 274, 275, 276, 277, 278, 279, 280, 281, 282, 283, 284,\n",
      "       285, 286, 287, 288, 289, 290, 291, 292, 293, 294, 295, 296, 297,\n",
      "       298, 299, 300, 301, 302, 303, 304, 305, 306, 307, 308, 309, 310,\n",
      "       311, 312, 313, 314, 316, 317, 318, 319, 320, 321, 322, 323, 324,\n",
      "       325, 326, 327, 328, 329, 330, 331, 332, 333, 334, 335, 336, 337,\n",
      "       338, 339, 340, 341, 342, 343, 344, 345, 347, 348, 349, 350, 351,\n",
      "       352, 353, 354, 355, 356, 357, 358, 359, 360, 361, 362, 363, 364,\n",
      "       365, 366, 367, 368, 369, 370, 371, 372, 373, 374, 375, 376, 377,\n",
      "       378, 379, 380, 381, 382, 383, 384, 385, 386, 387, 388, 389, 390,\n",
      "       391, 392, 393, 394, 395, 396, 397, 398, 399, 400, 401, 402, 403,\n",
      "       404, 406, 407, 408, 409, 410, 411, 412, 413, 414, 415, 416, 417,\n",
      "       418, 419, 420, 421, 422, 423, 424, 425, 426, 427, 428, 429, 430,\n",
      "       431, 432, 433, 434, 435, 436, 437, 438, 439, 440, 441, 442, 443,\n",
      "       444, 445, 446, 447, 448, 449, 450, 451, 452, 453, 454, 455, 456,\n",
      "       457, 459, 461, 462, 463, 464, 465, 466, 467, 468, 469, 470, 471,\n",
      "       472, 473, 474, 475, 476, 477, 478, 479, 480, 481, 482, 483, 484,\n",
      "       485, 486, 487, 488, 489, 490, 491, 492, 493, 494, 495, 497, 498,\n",
      "       499, 500, 501, 502, 503, 504, 505, 506, 507, 508, 510, 511, 512,\n",
      "       513, 514, 515, 516, 517, 518, 519, 520, 521, 522, 523, 524, 525,\n",
      "       526, 527, 528, 529, 530, 531, 532, 540, 541, 544, 546, 548, 549,\n",
      "       550, 551, 552, 554, 556, 560, 561, 562, 564, 568, 573, 574, 575,\n",
      "       578, 579, 580, 581, 583, 603, 614]), array([42]), array([108, 183, 209]), array([123]), array([126]), array([194]), array([205]), array([216]), array([231]), array([259]), array([260]), array([315]), array([346]), array([405]), array([458]), array([460]), array([496]), array([509]), array([533]), array([534]), array([535]), array([536]), array([537]), array([538]), array([539]), array([542, 566]), array([543]), array([545]), array([547]), array([553]), array([555]), array([557]), array([558]), array([559]), array([563]), array([565]), array([567]), array([569]), array([570]), array([571]), array([572]), array([576]), array([577]), array([582]), array([584]), array([585]), array([586]), array([587, 605]), array([588]), array([589]), array([590]), array([591]), array([592]), array([593]), array([594]), array([595]), array([596]), array([597]), array([598]), array([599]), array([600]), array([601]), array([602]), array([604]), array([606]), array([607]), array([608]), array([609]), array([610]), array([611]), array([612]), array([613])]\n"
     ]
    }
   ],
   "source": [
    "def find_similarity_class(\n",
    "        universal: UniSet, target_sample: int, alpha: float) -> np.ndarray:\n",
    "    size_of_universal = universal.shape[0]\n",
    "    similarity_class = []\n",
    "    for sample in range(size_of_universal):\n",
    "        if(universal[sample, target_sample] >= alpha):\n",
    "            similarity_class.append(sample)\n",
    "    return np.array(similarity_class)\n",
    "\n",
    "\n",
    "def find_cluster(relation: np.ndarray, alpha: float) -> list:\n",
    "    size_of_universal = relation.shape[0]\n",
    "    classes = []\n",
    "    mark = np.zeros(size_of_universal)\n",
    "    for sample in range(size_of_universal):\n",
    "        if(mark[sample] == 0):\n",
    "            new_class = find_similarity_class(relation, sample, alpha)\n",
    "            mark[new_class] = 1\n",
    "            classes.append(new_class)\n",
    "    return classes\n",
    "\n",
    "\n",
    "A = find_cluster(uni_train.equivalence_relation, 0.93)\n",
    "print(A)"
   ]
  }
 ],
 "metadata": {
  "interpreter": {
   "hash": "aee8b7b246df8f9039afb4144a1f6fd8d2ca17a180786b69acc140d282b71a49"
  },
  "kernelspec": {
   "display_name": "Python 3.10.0 64-bit",
   "language": "python",
   "name": "python3"
  },
  "language_info": {
   "codemirror_mode": {
    "name": "ipython",
    "version": 3
   },
   "file_extension": ".py",
   "mimetype": "text/x-python",
   "name": "python",
   "nbconvert_exporter": "python",
   "pygments_lexer": "ipython3",
   "version": "3.10.0"
  },
  "orig_nbformat": 4
 },
 "nbformat": 4,
 "nbformat_minor": 2
}
