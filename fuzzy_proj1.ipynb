{
 "cells": [
  {
   "cell_type": "code",
   "execution_count": 1,
   "metadata": {},
   "outputs": [],
   "source": [
    "import numpy as np\n",
    "from my_io import read_dataset_to_X_and_y\n",
    "from normalization import zero_mean_unit_variance\n",
    "from copy import deepcopy"
   ]
  },
  {
   "cell_type": "code",
   "execution_count": 2,
   "metadata": {},
   "outputs": [],
   "source": [
    "class UniSet():\n",
    "    def __init__(self, file, range_feature, range_label, normalization=False):\n",
    "        np.random.seed(1)\n",
    "        sample, label = read_dataset_to_X_and_y(\n",
    "            file, range_feature, range_label, shuffle=False,\n",
    "            about_nan='class_mean')\n",
    "        self.number_of_feature = sample.shape[1]\n",
    "        self.size_of_universal = sample.shape[0]\n",
    "        self.universal = sample.astype(float)\n",
    "        self.label = label\n",
    "        self.diffrent_label = np.unique(label)\n",
    "        self.number_of_diffrent_label = self.diffrent_label.shape[0]\n",
    "        if normalization is True:\n",
    "            self.universal = zero_mean_unit_variance(self.universal)\n",
    "        self.relation = None\n",
    "        self.equivalence_relation = None\n",
    "\n",
    "\n",
    "uni_total = UniSet('dataset/hcvdat0.csv', (4, 14), (1, 2))"
   ]
  },
  {
   "cell_type": "code",
   "execution_count": 3,
   "metadata": {},
   "outputs": [],
   "source": [
    "def split_train_test(universe: UniSet, train_size: float) -> list[UniSet]:\n",
    "    train = deepcopy(universe)\n",
    "    test = deepcopy(universe)\n",
    "    train.size_of_universal = \\\n",
    "        int(universe.size_of_universal*train_size)\n",
    "    train.universal = \\\n",
    "        universe.universal[0:train.size_of_universal]\n",
    "    test.size_of_universal = (\n",
    "        universe.size_of_universal - train.size_of_universal)\n",
    "    test.universal = \\\n",
    "        universe.universal[train.size_of_universal:]\n",
    "    return train, test\n",
    "\n",
    "\n",
    "# uni_train, uni_test = split_train_test(uni_total, 0.8)\n",
    "uni_train, uni_test = split_train_test(uni_total, 1)"
   ]
  },
  {
   "cell_type": "code",
   "execution_count": 4,
   "metadata": {},
   "outputs": [],
   "source": [
    "def similarity(sample1: np.ndarray, sample2: np.ndarray) -> float:\n",
    "    score = 0.0\n",
    "    number_of_feature = sample1.shape[0]\n",
    "    for feature in range(number_of_feature):\n",
    "        score += min(\n",
    "            (sample1[feature] / sample2[feature]),\n",
    "            (sample2[feature] / sample1[feature]))\n",
    "    score /= number_of_feature\n",
    "    return score\n",
    "\n",
    "\n",
    "def find_relation(universal: UniSet) -> np.ndarray:\n",
    "    return np.array(\n",
    "        list(map(lambda x: list(map(\n",
    "            lambda y: similarity(\n",
    "                universal.universal[x], universal.universal[y]),\n",
    "            range(universal.size_of_universal))),\n",
    "            range(universal.size_of_universal))))\n",
    "\n",
    "\n",
    "uni_train.relation = find_relation(uni_train)"
   ]
  },
  {
   "cell_type": "code",
   "execution_count": 5,
   "metadata": {},
   "outputs": [
    {
     "name": "stdout",
     "output_type": "stream",
     "text": [
      "1\n",
      "2\n",
      "3\n",
      "4\n",
      "5\n",
      "6\n"
     ]
    }
   ],
   "source": [
    "def max_min(sample1: np.ndarray, sample2: np.ndarray) -> float:\n",
    "    both_sample = np.vstack((sample1, sample2))\n",
    "    return np.max(np.min(both_sample, axis=0))\n",
    "\n",
    "\n",
    "def composition_RoR(relation: np.ndarray) -> np.ndarray:\n",
    "    result = np.array(\n",
    "        list(map(lambda x: list(map(\n",
    "            lambda y: max_min(relation[x], relation[y]),\n",
    "            range(relation.shape[0]))),\n",
    "            range(relation.shape[0]))))\n",
    "    return result\n",
    "\n",
    "\n",
    "def union_two_relation(\n",
    "        relation1: np.ndarray, relation2: np.ndarray) -> np.ndarray:\n",
    "    both_relation = np.dstack((relation1, relation2))\n",
    "    return np.max(both_relation, axis=2)\n",
    "\n",
    "\n",
    "def make_transitive(relation: np.ndarray) -> np.ndarray:\n",
    "    R = None\n",
    "    Rp = np.copy(relation)\n",
    "    iter = 0\n",
    "    while((Rp != R).any()):\n",
    "        R = np.copy(Rp)\n",
    "        RoR = composition_RoR(R)\n",
    "        Rp = union_two_relation(R, RoR)\n",
    "        iter += 1\n",
    "        print(iter)\n",
    "    return Rp\n",
    "\n",
    "\n",
    "uni_train.equivalence_relation = make_transitive(uni_train.relation)"
   ]
  },
  {
   "cell_type": "code",
   "execution_count": 6,
   "metadata": {},
   "outputs": [
    {
     "name": "stdout",
     "output_type": "stream",
     "text": [
      "Is our equivalence relation, equivalence? True\n"
     ]
    }
   ],
   "source": [
    "def is_reflexive(relation: np.ndarray) -> bool:\n",
    "    return (relation.diagonal() != 0).all()\n",
    "\n",
    "\n",
    "def is_symmetric(relation: np.ndarray) -> bool:\n",
    "    return (relation == relation.T).all()\n",
    "\n",
    "\n",
    "def is_transitive(relation: np.ndarray) -> bool:\n",
    "    RoR = composition_RoR(relation)\n",
    "    Rp = union_two_relation(relation, RoR)\n",
    "    return (Rp == relation).all()\n",
    "\n",
    "\n",
    "def is_equivalece(relation: np.ndarray) -> bool:\n",
    "    return is_reflexive(relation) & is_symmetric(relation) & \\\n",
    "        is_transitive(relation)\n",
    "\n",
    "\n",
    "print('Is our equivalence relation, equivalence?',\n",
    "    f'{is_equivalece(uni_train.equivalence_relation)}')"
   ]
  },
  {
   "cell_type": "code",
   "execution_count": 7,
   "metadata": {},
   "outputs": [
    {
     "name": "stdout",
     "output_type": "stream",
     "text": [
      "[array([  0,   1,   2,   3,   4,   5,   6,   7,   8,   9,  10,  11,  12,\n",
      "        13,  14,  15,  16,  17,  18,  19,  20,  21,  22,  23,  24,  25,\n",
      "        26,  27,  28,  29,  30,  31,  32,  33,  34,  35,  36,  37,  38,\n",
      "        39,  40,  41,  42,  43,  44,  45,  46,  47,  48,  49,  50,  51,\n",
      "        52,  53,  54,  55,  56,  57,  58,  59,  60,  61,  62,  63,  64,\n",
      "        65,  66,  67,  68,  69,  70,  71,  72,  73,  74,  75,  76,  77,\n",
      "        78,  79,  80,  81,  82,  83,  84,  85,  86,  87,  88,  89,  90,\n",
      "        91,  92,  93,  94,  95,  96,  97,  98,  99, 100, 101, 102, 103,\n",
      "       104, 105, 106, 107, 108, 109, 110, 111, 112, 113, 114, 115, 116,\n",
      "       117, 118, 119, 120, 121, 122, 123, 124, 125, 126, 127, 128, 129,\n",
      "       130, 131, 132, 133, 134, 135, 136, 137, 138, 139, 140, 141, 142,\n",
      "       143, 144, 145, 146, 147, 148, 149, 150, 151, 152, 153, 154, 155,\n",
      "       156, 157, 158, 159, 160, 161, 162, 163, 164, 165, 166, 167, 168,\n",
      "       169, 170, 171, 172, 173, 174, 175, 176, 177, 178, 179, 180, 181,\n",
      "       182, 183, 184, 185, 186, 187, 188, 189, 190, 191, 192, 193, 194,\n",
      "       195, 196, 197, 198, 199, 200, 201, 202, 203, 204, 205, 206, 207,\n",
      "       208, 209, 210, 211, 212, 213, 214, 215, 216, 217, 218, 219, 220,\n",
      "       221, 222, 223, 224, 225, 226, 227, 228, 229, 230, 231, 232, 233,\n",
      "       234, 235, 236, 237, 238, 239, 240, 241, 242, 243, 244, 245, 246,\n",
      "       247, 248, 249, 250, 251, 252, 253, 254, 255, 256, 257, 258, 259,\n",
      "       260, 261, 262, 263, 264, 265, 266, 267, 268, 269, 270, 271, 272,\n",
      "       273, 274, 275, 276, 277, 278, 279, 280, 281, 282, 283, 284, 285,\n",
      "       286, 287, 288, 289, 290, 291, 292, 293, 294, 295, 296, 297, 298,\n",
      "       299, 300, 301, 302, 303, 304, 305, 306, 307, 308, 309, 310, 311,\n",
      "       312, 313, 314, 315, 316, 317, 318, 319, 320, 321, 322, 323, 324,\n",
      "       325, 326, 327, 328, 329, 330, 331, 332, 333, 334, 335, 336, 337,\n",
      "       338, 339, 340, 341, 342, 343, 344, 345, 346, 347, 348, 349, 350,\n",
      "       351, 352, 353, 354, 355, 356, 357, 358, 359, 360, 361, 362, 363,\n",
      "       364, 365, 366, 367, 368, 369, 370, 371, 372, 373, 374, 375, 376,\n",
      "       377, 378, 379, 380, 381, 382, 383, 384, 385, 386, 387, 388, 389,\n",
      "       390, 391, 392, 393, 394, 395, 396, 397, 398, 399, 400, 401, 402,\n",
      "       403, 404, 405, 406, 407, 408, 409, 410, 411, 412, 413, 414, 415,\n",
      "       416, 417, 418, 419, 420, 421, 422, 423, 424, 425, 426, 427, 428,\n",
      "       429, 430, 431, 432, 433, 434, 435, 436, 437, 438, 439, 440, 441,\n",
      "       442, 443, 444, 445, 446, 447, 448, 449, 450, 451, 452, 453, 454,\n",
      "       455, 456, 457, 458, 459, 460, 461, 462, 463, 464, 465, 466, 467,\n",
      "       468, 469, 470, 471, 472, 473, 474, 475, 476, 477, 478, 479, 480,\n",
      "       481, 482, 483, 484, 485, 486, 487, 488, 489, 490, 491, 492, 493,\n",
      "       494, 495, 496, 497, 498, 499, 500, 501, 502, 503, 504, 505, 506,\n",
      "       507, 508, 509, 510, 511, 512, 513, 514, 515, 516, 517, 518, 519,\n",
      "       520, 521, 522, 523, 524, 525, 526, 527, 528, 529, 530, 531, 532,\n",
      "       534, 535, 536, 538, 540, 541, 542, 543, 544, 545, 546, 547, 548,\n",
      "       549, 550, 551, 552, 553, 554, 555, 556, 557, 558, 559, 560, 561,\n",
      "       562, 563, 564, 565, 566, 567, 568, 569, 570, 571, 572, 573, 574,\n",
      "       575, 576, 577, 578, 579, 580, 581, 582, 583, 584, 585, 586, 587,\n",
      "       588, 589, 590, 591, 592, 593, 594, 595, 596, 598, 599, 600, 601,\n",
      "       602, 603, 604, 605, 606, 607, 608, 609, 611, 612, 613, 614]), array([533]), array([537]), array([539]), array([597]), array([610])]\n"
     ]
    }
   ],
   "source": [
    "def find_similarity_class(\n",
    "        universal: UniSet, target_sample: int, alpha: float) -> np.ndarray:\n",
    "    size_of_universal = universal.shape[0]\n",
    "    similarity_class = []\n",
    "    for sample in range(size_of_universal):\n",
    "        if(universal[sample, target_sample] >= alpha):\n",
    "            similarity_class.append(sample)\n",
    "    return np.array(similarity_class)\n",
    "\n",
    "\n",
    "def find_cluster(relation: np.ndarray, alpha: float) -> list:\n",
    "    size_of_universal = relation.shape[0]\n",
    "    classes = []\n",
    "    mark = np.zeros(size_of_universal)\n",
    "    for sample in range(size_of_universal):\n",
    "        if(mark[sample] == 0):\n",
    "            new_class = find_similarity_class(relation, sample, alpha)\n",
    "            mark[new_class] = 1\n",
    "            classes.append(new_class)\n",
    "    return classes\n",
    "\n",
    "\n",
    "A = find_cluster(uni_train.equivalence_relation, 0.70)\n",
    "print(A)"
   ]
  }
 ],
 "metadata": {
  "interpreter": {
   "hash": "aee8b7b246df8f9039afb4144a1f6fd8d2ca17a180786b69acc140d282b71a49"
  },
  "kernelspec": {
   "display_name": "Python 3.10.0 64-bit",
   "language": "python",
   "name": "python3"
  },
  "language_info": {
   "codemirror_mode": {
    "name": "ipython",
    "version": 3
   },
   "file_extension": ".py",
   "mimetype": "text/x-python",
   "name": "python",
   "nbconvert_exporter": "python",
   "pygments_lexer": "ipython3",
   "version": "3.10.0"
  },
  "orig_nbformat": 4
 },
 "nbformat": 4,
 "nbformat_minor": 2
}
